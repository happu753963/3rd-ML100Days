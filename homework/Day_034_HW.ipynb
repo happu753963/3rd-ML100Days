{
 "cells": [
  {
   "cell_type": "markdown",
   "metadata": {},
   "source": [
    "## 練習時間\n",
    "假設我們資料中類別的數量並不均衡，在評估準確率時可能會有所偏頗，試著切分出 y_test 中，0 類別與 1 類別的數量是一樣的 (亦即 y_test 的類別是均衡的)"
   ]
  },
  {
   "cell_type": "code",
   "execution_count": 1,
   "metadata": {},
   "outputs": [],
   "source": [
    "import numpy as np\n",
    "X = np.arange(1000).reshape(200, 5)\n",
    "y = np.zeros(200)\n",
    "y[:40] = 1"
   ]
  },
  {
   "cell_type": "code",
   "execution_count": 2,
   "metadata": {},
   "outputs": [
    {
     "data": {
      "text/plain": [
       "array([1., 1., 1., 1., 1., 1., 1., 1., 1., 1., 1., 1., 1., 1., 1., 1., 1.,\n",
       "       1., 1., 1., 1., 1., 1., 1., 1., 1., 1., 1., 1., 1., 1., 1., 1., 1.,\n",
       "       1., 1., 1., 1., 1., 1., 0., 0., 0., 0., 0., 0., 0., 0., 0., 0., 0.,\n",
       "       0., 0., 0., 0., 0., 0., 0., 0., 0., 0., 0., 0., 0., 0., 0., 0., 0.,\n",
       "       0., 0., 0., 0., 0., 0., 0., 0., 0., 0., 0., 0., 0., 0., 0., 0., 0.,\n",
       "       0., 0., 0., 0., 0., 0., 0., 0., 0., 0., 0., 0., 0., 0., 0., 0., 0.,\n",
       "       0., 0., 0., 0., 0., 0., 0., 0., 0., 0., 0., 0., 0., 0., 0., 0., 0.,\n",
       "       0., 0., 0., 0., 0., 0., 0., 0., 0., 0., 0., 0., 0., 0., 0., 0., 0.,\n",
       "       0., 0., 0., 0., 0., 0., 0., 0., 0., 0., 0., 0., 0., 0., 0., 0., 0.,\n",
       "       0., 0., 0., 0., 0., 0., 0., 0., 0., 0., 0., 0., 0., 0., 0., 0., 0.,\n",
       "       0., 0., 0., 0., 0., 0., 0., 0., 0., 0., 0., 0., 0., 0., 0., 0., 0.,\n",
       "       0., 0., 0., 0., 0., 0., 0., 0., 0., 0., 0., 0., 0.])"
      ]
     },
     "execution_count": 2,
     "metadata": {},
     "output_type": "execute_result"
    }
   ],
   "source": [
    "y"
   ]
  },
  {
   "cell_type": "code",
   "execution_count": 3,
   "metadata": {},
   "outputs": [
    {
     "data": {
      "text/plain": [
       "(200, 5)"
      ]
     },
     "execution_count": 3,
     "metadata": {},
     "output_type": "execute_result"
    }
   ],
   "source": [
    "X.shape"
   ]
  },
  {
   "cell_type": "markdown",
   "metadata": {},
   "source": [
    "可以看見 y 類別中，有 160 個 類別 0，40 個 類別 1 ，請試著使用 train_test_split 函數，切分出 y_test 中能各有 10 筆類別 0 與 10 筆類別 1 。(HINT: 參考函數中的 test_size，可針對不同類別各自作切分後再合併)"
   ]
  },
  {
   "cell_type": "code",
   "execution_count": 4,
   "metadata": {},
   "outputs": [
    {
     "name": "stdout",
     "output_type": "stream",
     "text": [
      "FOLD 1: \n",
      "Y_test:  [1. 1. 1. 1. 1. 1. 1. 1. 1. 1.]\n",
      "------------------------------\n",
      "FOLD 2: \n",
      "Y_test:  [1. 1. 1. 1. 1. 1. 1. 1. 1. 1.]\n",
      "------------------------------\n",
      "FOLD 3: \n",
      "Y_test:  [1. 1. 1. 1. 1. 1. 1. 1. 1. 1.]\n",
      "------------------------------\n",
      "FOLD 4: \n",
      "Y_test:  [1. 1. 1. 1. 1. 1. 1. 1. 1. 1.]\n",
      "------------------------------\n"
     ]
    }
   ],
   "source": [
    "from sklearn.model_selection import train_test_split, KFold\n",
    "X1_train, X1_test, y1_train, y1_test = train_test_split(X[:40], y[:40], test_size=0.5, random_state=87)\n",
    "\n",
    "kf = KFold(n_splits=4)\n",
    "i = 0\n",
    "for train_index, test_index in kf.split(X[:40]):\n",
    "    i +=1 \n",
    "    X1_train, X1_test = X[train_index], X[test_index]\n",
    "    y1_train, y1_test = y[train_index], y[test_index]\n",
    "    print(\"FOLD {}: \".format(i))\n",
    "#     print(\"X_test: \", X_test)\n",
    "    print(\"Y_test: \", y1_test)\n",
    "    print(\"-\"*30)"
   ]
  },
  {
   "cell_type": "code",
   "execution_count": 5,
   "metadata": {},
   "outputs": [
    {
     "name": "stdout",
     "output_type": "stream",
     "text": [
      "FOLD 1: \n",
      "Y0_test:  [0. 0. 0. 0. 0. 0. 0. 0. 0. 0.]\n",
      "------------------------------\n",
      "FOLD 2: \n",
      "Y0_test:  [0. 0. 0. 0. 0. 0. 0. 0. 0. 0.]\n",
      "------------------------------\n",
      "FOLD 3: \n",
      "Y0_test:  [0. 0. 0. 0. 0. 0. 0. 0. 0. 0.]\n",
      "------------------------------\n",
      "FOLD 4: \n",
      "Y0_test:  [0. 0. 0. 0. 0. 0. 0. 0. 0. 0.]\n",
      "------------------------------\n",
      "FOLD 5: \n",
      "Y0_test:  [0. 0. 0. 0. 0. 0. 0. 0. 0. 0.]\n",
      "------------------------------\n",
      "FOLD 6: \n",
      "Y0_test:  [0. 0. 0. 0. 0. 0. 0. 0. 0. 0.]\n",
      "------------------------------\n",
      "FOLD 7: \n",
      "Y0_test:  [0. 0. 0. 0. 0. 0. 0. 0. 0. 0.]\n",
      "------------------------------\n",
      "FOLD 8: \n",
      "Y0_test:  [0. 0. 0. 0. 0. 0. 0. 0. 0. 0.]\n",
      "------------------------------\n",
      "FOLD 9: \n",
      "Y0_test:  [0. 0. 0. 0. 0. 0. 0. 0. 0. 0.]\n",
      "------------------------------\n",
      "FOLD 10: \n",
      "Y0_test:  [0. 0. 0. 0. 0. 0. 0. 0. 0. 0.]\n",
      "------------------------------\n",
      "FOLD 11: \n",
      "Y0_test:  [0. 0. 0. 0. 0. 0. 0. 0. 0. 0.]\n",
      "------------------------------\n",
      "FOLD 12: \n",
      "Y0_test:  [0. 0. 0. 0. 0. 0. 0. 0. 0. 0.]\n",
      "------------------------------\n",
      "FOLD 13: \n",
      "Y0_test:  [0. 0. 0. 0. 0. 0. 0. 0. 0. 0.]\n",
      "------------------------------\n",
      "FOLD 14: \n",
      "Y0_test:  [0. 0. 0. 0. 0. 0. 0. 0. 0. 0.]\n",
      "------------------------------\n",
      "FOLD 15: \n",
      "Y0_test:  [0. 0. 0. 0. 0. 0. 0. 0. 0. 0.]\n",
      "------------------------------\n",
      "FOLD 16: \n",
      "Y0_test:  [0. 0. 0. 0. 0. 0. 0. 0. 0. 0.]\n",
      "------------------------------\n"
     ]
    }
   ],
   "source": [
    "y[::]=0\n",
    "X0_train, X0_test, y0_train, y0_test = train_test_split(X[40:], y[40:], test_size=0.25, random_state=87)\n",
    "\n",
    "kf = KFold(n_splits=16)\n",
    "i = 0\n",
    "for train_index0, test_index0 in kf.split(X[40:]):\n",
    "    i +=1 \n",
    "    X0_train, X0_test = X[train_index0], X[test_index0]\n",
    "    y0_train, y0_test = y[train_index0], y[test_index0]\n",
    "    print(\"FOLD {}: \".format(i))\n",
    "#     print(\"X_test: \", X_test)\n",
    "    print(\"Y0_test: \", y0_test)\n",
    "    print(\"-\"*30)"
   ]
  },
  {
   "cell_type": "code",
   "execution_count": 6,
   "metadata": {},
   "outputs": [
    {
     "data": {
      "text/plain": [
       "array([0., 0., 0., 0., 0., 0., 0., 0., 0., 0., 1., 1., 1., 1., 1., 1., 1.,\n",
       "       1., 1., 1.])"
      ]
     },
     "execution_count": 6,
     "metadata": {},
     "output_type": "execute_result"
    }
   ],
   "source": [
    "y_test = np.concatenate((y0_test, y1_test))\n",
    "y_test"
   ]
  },
  {
   "cell_type": "code",
   "execution_count": null,
   "metadata": {},
   "outputs": [],
   "source": []
  }
 ],
 "metadata": {
  "kernelspec": {
   "display_name": "Python 3",
   "language": "python",
   "name": "python3"
  },
  "language_info": {
   "codemirror_mode": {
    "name": "ipython",
    "version": 3
   },
   "file_extension": ".py",
   "mimetype": "text/x-python",
   "name": "python",
   "nbconvert_exporter": "python",
   "pygments_lexer": "ipython3",
   "version": "3.7.3"
  }
 },
 "nbformat": 4,
 "nbformat_minor": 2
}
